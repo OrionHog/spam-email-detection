{
  "nbformat": 4,
  "nbformat_minor": 0,
  "metadata": {
    "colab": {
      "provenance": []
    },
    "kernelspec": {
      "name": "python3",
      "display_name": "Python 3"
    },
    "language_info": {
      "name": "python"
    }
  },
  "cells": [
    {
      "cell_type": "code",
      "execution_count": null,
      "metadata": {
        "id": "Ag9qL-wJlD60"
      },
      "outputs": [],
      "source": [
        "import numpy as np\n",
        "import pandas as pd\n",
        "from sklearn.model_selection import train_test_split\n",
        "from sklearn.feature_extraction.text import TfidfVectorizer\n",
        "from sklearn.linear_model import LogisticRegression\n",
        "from sklearn.metrics import accuracy_score"
      ]
    },
    {
      "cell_type": "code",
      "source": [
        "df = pd.read_csv('/spam_ham_dataset.csv')"
      ],
      "metadata": {
        "id": "50CeHZpulNia"
      },
      "execution_count": null,
      "outputs": []
    },
    {
      "cell_type": "markdown",
      "source": [
        "# Data Check"
      ],
      "metadata": {
        "id": "dMAADAuvZP_j"
      }
    },
    {
      "cell_type": "code",
      "source": [
        "print(df)"
      ],
      "metadata": {
        "colab": {
          "base_uri": "https://localhost:8080/"
        },
        "id": "TUYPDAnCp-Hr",
        "outputId": "54cd69f2-df0a-4094-b113-239bd1d03811"
      },
      "execution_count": null,
      "outputs": [
        {
          "output_type": "stream",
          "name": "stdout",
          "text": [
            "      Unnamed: 0 label                                               text  \\\n",
            "0            605   ham  Subject: enron methanol ; meter # : 988291\\r\\n...   \n",
            "1           2349   ham  Subject: hpl nom for january 9 , 2001\\r\\n( see...   \n",
            "2           3624   ham  Subject: neon retreat\\r\\nho ho ho , we ' re ar...   \n",
            "3           4685  spam  Subject: photoshop , windows , office . cheap ...   \n",
            "4           2030   ham  Subject: re : indian springs\\r\\nthis deal is t...   \n",
            "...          ...   ...                                                ...   \n",
            "5166        1518   ham  Subject: put the 10 on the ft\\r\\nthe transport...   \n",
            "5167         404   ham  Subject: 3 / 4 / 2000 and following noms\\r\\nhp...   \n",
            "5168        2933   ham  Subject: calpine daily gas nomination\\r\\n>\\r\\n...   \n",
            "5169        1409   ham  Subject: industrial worksheets for august 2000...   \n",
            "5170        4807  spam  Subject: important online banking alert\\r\\ndea...   \n",
            "\n",
            "      label_num  \n",
            "0             0  \n",
            "1             0  \n",
            "2             0  \n",
            "3             1  \n",
            "4             0  \n",
            "...         ...  \n",
            "5166          0  \n",
            "5167          0  \n",
            "5168          0  \n",
            "5169          0  \n",
            "5170          1  \n",
            "\n",
            "[5171 rows x 4 columns]\n"
          ]
        }
      ]
    },
    {
      "cell_type": "code",
      "source": [
        "data = df.where((pd.notnull(df)),'')"
      ],
      "metadata": {
        "id": "mL_3GtxyqMbX"
      },
      "execution_count": null,
      "outputs": []
    },
    {
      "cell_type": "code",
      "source": [
        "data.head(10)"
      ],
      "metadata": {
        "colab": {
          "base_uri": "https://localhost:8080/",
          "height": 363
        },
        "id": "akdutdQprHSw",
        "outputId": "0700e8a6-c5ea-4cc7-d66f-140e17f0d8e9"
      },
      "execution_count": null,
      "outputs": [
        {
          "output_type": "execute_result",
          "data": {
            "text/plain": [
              "   Unnamed: 0 label                                               text  \\\n",
              "0         605   ham  Subject: enron methanol ; meter # : 988291\\r\\n...   \n",
              "1        2349   ham  Subject: hpl nom for january 9 , 2001\\r\\n( see...   \n",
              "2        3624   ham  Subject: neon retreat\\r\\nho ho ho , we ' re ar...   \n",
              "3        4685  spam  Subject: photoshop , windows , office . cheap ...   \n",
              "4        2030   ham  Subject: re : indian springs\\r\\nthis deal is t...   \n",
              "5        2949   ham  Subject: ehronline web address change\\r\\nthis ...   \n",
              "6        2793   ham  Subject: spring savings certificate - take 30 ...   \n",
              "7        4185  spam  Subject: looking for medication ? we ` re the ...   \n",
              "8        2641   ham  Subject: noms / actual flow for 2 / 26\\r\\nwe a...   \n",
              "9        1870   ham  Subject: nominations for oct . 21 - 23 , 2000\\...   \n",
              "\n",
              "   label_num  \n",
              "0          0  \n",
              "1          0  \n",
              "2          0  \n",
              "3          1  \n",
              "4          0  \n",
              "5          0  \n",
              "6          0  \n",
              "7          1  \n",
              "8          0  \n",
              "9          0  "
            ],
            "text/html": [
              "\n",
              "\n",
              "  <div id=\"df-bf596507-4a06-4401-97bd-ffd3264f58c0\">\n",
              "    <div class=\"colab-df-container\">\n",
              "      <div>\n",
              "<style scoped>\n",
              "    .dataframe tbody tr th:only-of-type {\n",
              "        vertical-align: middle;\n",
              "    }\n",
              "\n",
              "    .dataframe tbody tr th {\n",
              "        vertical-align: top;\n",
              "    }\n",
              "\n",
              "    .dataframe thead th {\n",
              "        text-align: right;\n",
              "    }\n",
              "</style>\n",
              "<table border=\"1\" class=\"dataframe\">\n",
              "  <thead>\n",
              "    <tr style=\"text-align: right;\">\n",
              "      <th></th>\n",
              "      <th>Unnamed: 0</th>\n",
              "      <th>label</th>\n",
              "      <th>text</th>\n",
              "      <th>label_num</th>\n",
              "    </tr>\n",
              "  </thead>\n",
              "  <tbody>\n",
              "    <tr>\n",
              "      <th>0</th>\n",
              "      <td>605</td>\n",
              "      <td>ham</td>\n",
              "      <td>Subject: enron methanol ; meter # : 988291\\r\\n...</td>\n",
              "      <td>0</td>\n",
              "    </tr>\n",
              "    <tr>\n",
              "      <th>1</th>\n",
              "      <td>2349</td>\n",
              "      <td>ham</td>\n",
              "      <td>Subject: hpl nom for january 9 , 2001\\r\\n( see...</td>\n",
              "      <td>0</td>\n",
              "    </tr>\n",
              "    <tr>\n",
              "      <th>2</th>\n",
              "      <td>3624</td>\n",
              "      <td>ham</td>\n",
              "      <td>Subject: neon retreat\\r\\nho ho ho , we ' re ar...</td>\n",
              "      <td>0</td>\n",
              "    </tr>\n",
              "    <tr>\n",
              "      <th>3</th>\n",
              "      <td>4685</td>\n",
              "      <td>spam</td>\n",
              "      <td>Subject: photoshop , windows , office . cheap ...</td>\n",
              "      <td>1</td>\n",
              "    </tr>\n",
              "    <tr>\n",
              "      <th>4</th>\n",
              "      <td>2030</td>\n",
              "      <td>ham</td>\n",
              "      <td>Subject: re : indian springs\\r\\nthis deal is t...</td>\n",
              "      <td>0</td>\n",
              "    </tr>\n",
              "    <tr>\n",
              "      <th>5</th>\n",
              "      <td>2949</td>\n",
              "      <td>ham</td>\n",
              "      <td>Subject: ehronline web address change\\r\\nthis ...</td>\n",
              "      <td>0</td>\n",
              "    </tr>\n",
              "    <tr>\n",
              "      <th>6</th>\n",
              "      <td>2793</td>\n",
              "      <td>ham</td>\n",
              "      <td>Subject: spring savings certificate - take 30 ...</td>\n",
              "      <td>0</td>\n",
              "    </tr>\n",
              "    <tr>\n",
              "      <th>7</th>\n",
              "      <td>4185</td>\n",
              "      <td>spam</td>\n",
              "      <td>Subject: looking for medication ? we ` re the ...</td>\n",
              "      <td>1</td>\n",
              "    </tr>\n",
              "    <tr>\n",
              "      <th>8</th>\n",
              "      <td>2641</td>\n",
              "      <td>ham</td>\n",
              "      <td>Subject: noms / actual flow for 2 / 26\\r\\nwe a...</td>\n",
              "      <td>0</td>\n",
              "    </tr>\n",
              "    <tr>\n",
              "      <th>9</th>\n",
              "      <td>1870</td>\n",
              "      <td>ham</td>\n",
              "      <td>Subject: nominations for oct . 21 - 23 , 2000\\...</td>\n",
              "      <td>0</td>\n",
              "    </tr>\n",
              "  </tbody>\n",
              "</table>\n",
              "</div>\n",
              "      <button class=\"colab-df-convert\" onclick=\"convertToInteractive('df-bf596507-4a06-4401-97bd-ffd3264f58c0')\"\n",
              "              title=\"Convert this dataframe to an interactive table.\"\n",
              "              style=\"display:none;\">\n",
              "\n",
              "  <svg xmlns=\"http://www.w3.org/2000/svg\" height=\"24px\"viewBox=\"0 0 24 24\"\n",
              "       width=\"24px\">\n",
              "    <path d=\"M0 0h24v24H0V0z\" fill=\"none\"/>\n",
              "    <path d=\"M18.56 5.44l.94 2.06.94-2.06 2.06-.94-2.06-.94-.94-2.06-.94 2.06-2.06.94zm-11 1L8.5 8.5l.94-2.06 2.06-.94-2.06-.94L8.5 2.5l-.94 2.06-2.06.94zm10 10l.94 2.06.94-2.06 2.06-.94-2.06-.94-.94-2.06-.94 2.06-2.06.94z\"/><path d=\"M17.41 7.96l-1.37-1.37c-.4-.4-.92-.59-1.43-.59-.52 0-1.04.2-1.43.59L10.3 9.45l-7.72 7.72c-.78.78-.78 2.05 0 2.83L4 21.41c.39.39.9.59 1.41.59.51 0 1.02-.2 1.41-.59l7.78-7.78 2.81-2.81c.8-.78.8-2.07 0-2.86zM5.41 20L4 18.59l7.72-7.72 1.47 1.35L5.41 20z\"/>\n",
              "  </svg>\n",
              "      </button>\n",
              "\n",
              "\n",
              "\n",
              "    <div id=\"df-dad6f0e5-25ee-47e7-b222-58efa371d38e\">\n",
              "      <button class=\"colab-df-quickchart\" onclick=\"quickchart('df-dad6f0e5-25ee-47e7-b222-58efa371d38e')\"\n",
              "              title=\"Suggest charts.\"\n",
              "              style=\"display:none;\">\n",
              "\n",
              "<svg xmlns=\"http://www.w3.org/2000/svg\" height=\"24px\"viewBox=\"0 0 24 24\"\n",
              "     width=\"24px\">\n",
              "    <g>\n",
              "        <path d=\"M19 3H5c-1.1 0-2 .9-2 2v14c0 1.1.9 2 2 2h14c1.1 0 2-.9 2-2V5c0-1.1-.9-2-2-2zM9 17H7v-7h2v7zm4 0h-2V7h2v10zm4 0h-2v-4h2v4z\"/>\n",
              "    </g>\n",
              "</svg>\n",
              "      </button>\n",
              "    </div>\n",
              "\n",
              "<style>\n",
              "  .colab-df-quickchart {\n",
              "    background-color: #E8F0FE;\n",
              "    border: none;\n",
              "    border-radius: 50%;\n",
              "    cursor: pointer;\n",
              "    display: none;\n",
              "    fill: #1967D2;\n",
              "    height: 32px;\n",
              "    padding: 0 0 0 0;\n",
              "    width: 32px;\n",
              "  }\n",
              "\n",
              "  .colab-df-quickchart:hover {\n",
              "    background-color: #E2EBFA;\n",
              "    box-shadow: 0px 1px 2px rgba(60, 64, 67, 0.3), 0px 1px 3px 1px rgba(60, 64, 67, 0.15);\n",
              "    fill: #174EA6;\n",
              "  }\n",
              "\n",
              "  [theme=dark] .colab-df-quickchart {\n",
              "    background-color: #3B4455;\n",
              "    fill: #D2E3FC;\n",
              "  }\n",
              "\n",
              "  [theme=dark] .colab-df-quickchart:hover {\n",
              "    background-color: #434B5C;\n",
              "    box-shadow: 0px 1px 3px 1px rgba(0, 0, 0, 0.15);\n",
              "    filter: drop-shadow(0px 1px 2px rgba(0, 0, 0, 0.3));\n",
              "    fill: #FFFFFF;\n",
              "  }\n",
              "</style>\n",
              "\n",
              "    <script>\n",
              "      async function quickchart(key) {\n",
              "        const containerElement = document.querySelector('#' + key);\n",
              "        const charts = await google.colab.kernel.invokeFunction(\n",
              "            'suggestCharts', [key], {});\n",
              "      }\n",
              "    </script>\n",
              "\n",
              "      <script>\n",
              "\n",
              "function displayQuickchartButton(domScope) {\n",
              "  let quickchartButtonEl =\n",
              "    domScope.querySelector('#df-dad6f0e5-25ee-47e7-b222-58efa371d38e button.colab-df-quickchart');\n",
              "  quickchartButtonEl.style.display =\n",
              "    google.colab.kernel.accessAllowed ? 'block' : 'none';\n",
              "}\n",
              "\n",
              "        displayQuickchartButton(document);\n",
              "      </script>\n",
              "      <style>\n",
              "    .colab-df-container {\n",
              "      display:flex;\n",
              "      flex-wrap:wrap;\n",
              "      gap: 12px;\n",
              "    }\n",
              "\n",
              "    .colab-df-convert {\n",
              "      background-color: #E8F0FE;\n",
              "      border: none;\n",
              "      border-radius: 50%;\n",
              "      cursor: pointer;\n",
              "      display: none;\n",
              "      fill: #1967D2;\n",
              "      height: 32px;\n",
              "      padding: 0 0 0 0;\n",
              "      width: 32px;\n",
              "    }\n",
              "\n",
              "    .colab-df-convert:hover {\n",
              "      background-color: #E2EBFA;\n",
              "      box-shadow: 0px 1px 2px rgba(60, 64, 67, 0.3), 0px 1px 3px 1px rgba(60, 64, 67, 0.15);\n",
              "      fill: #174EA6;\n",
              "    }\n",
              "\n",
              "    [theme=dark] .colab-df-convert {\n",
              "      background-color: #3B4455;\n",
              "      fill: #D2E3FC;\n",
              "    }\n",
              "\n",
              "    [theme=dark] .colab-df-convert:hover {\n",
              "      background-color: #434B5C;\n",
              "      box-shadow: 0px 1px 3px 1px rgba(0, 0, 0, 0.15);\n",
              "      filter: drop-shadow(0px 1px 2px rgba(0, 0, 0, 0.3));\n",
              "      fill: #FFFFFF;\n",
              "    }\n",
              "  </style>\n",
              "\n",
              "      <script>\n",
              "        const buttonEl =\n",
              "          document.querySelector('#df-bf596507-4a06-4401-97bd-ffd3264f58c0 button.colab-df-convert');\n",
              "        buttonEl.style.display =\n",
              "          google.colab.kernel.accessAllowed ? 'block' : 'none';\n",
              "\n",
              "        async function convertToInteractive(key) {\n",
              "          const element = document.querySelector('#df-bf596507-4a06-4401-97bd-ffd3264f58c0');\n",
              "          const dataTable =\n",
              "            await google.colab.kernel.invokeFunction('convertToInteractive',\n",
              "                                                     [key], {});\n",
              "          if (!dataTable) return;\n",
              "\n",
              "          const docLinkHtml = 'Like what you see? Visit the ' +\n",
              "            '<a target=\"_blank\" href=https://colab.research.google.com/notebooks/data_table.ipynb>data table notebook</a>'\n",
              "            + ' to learn more about interactive tables.';\n",
              "          element.innerHTML = '';\n",
              "          dataTable['output_type'] = 'display_data';\n",
              "          await google.colab.output.renderOutput(dataTable, element);\n",
              "          const docLink = document.createElement('div');\n",
              "          docLink.innerHTML = docLinkHtml;\n",
              "          element.appendChild(docLink);\n",
              "        }\n",
              "      </script>\n",
              "    </div>\n",
              "  </div>\n"
            ]
          },
          "metadata": {},
          "execution_count": 22
        }
      ]
    },
    {
      "cell_type": "code",
      "source": [
        "data.info()"
      ],
      "metadata": {
        "colab": {
          "base_uri": "https://localhost:8080/"
        },
        "id": "gRpvqKtrrHVE",
        "outputId": "10034653-6ad3-4848-ce08-f68b72aa16d2"
      },
      "execution_count": null,
      "outputs": [
        {
          "output_type": "stream",
          "name": "stdout",
          "text": [
            "<class 'pandas.core.frame.DataFrame'>\n",
            "RangeIndex: 5171 entries, 0 to 5170\n",
            "Data columns (total 4 columns):\n",
            " #   Column      Non-Null Count  Dtype \n",
            "---  ------      --------------  ----- \n",
            " 0   Unnamed: 0  5171 non-null   int64 \n",
            " 1   label       5171 non-null   object\n",
            " 2   text        5171 non-null   object\n",
            " 3   label_num   5171 non-null   int64 \n",
            "dtypes: int64(2), object(2)\n",
            "memory usage: 161.7+ KB\n"
          ]
        }
      ]
    },
    {
      "cell_type": "code",
      "source": [
        "data.shape"
      ],
      "metadata": {
        "colab": {
          "base_uri": "https://localhost:8080/"
        },
        "id": "s_x9D51brHX6",
        "outputId": "5ad92d3d-7e62-404b-d110-62720b643faf"
      },
      "execution_count": null,
      "outputs": [
        {
          "output_type": "execute_result",
          "data": {
            "text/plain": [
              "(5171, 4)"
            ]
          },
          "metadata": {},
          "execution_count": 25
        }
      ]
    },
    {
      "cell_type": "code",
      "source": [
        "data.loc[data['label'] == 'spam', 'label',]=0\n",
        "data.loc[data['label'] == 'ham', 'label',]=1"
      ],
      "metadata": {
        "id": "Hwkb9CG4rHai"
      },
      "execution_count": null,
      "outputs": []
    },
    {
      "cell_type": "code",
      "source": [
        "x = data['text']\n",
        "y = data['label']"
      ],
      "metadata": {
        "id": "_mjxEPh_rHc4"
      },
      "execution_count": null,
      "outputs": []
    },
    {
      "cell_type": "code",
      "source": [
        "print(x)"
      ],
      "metadata": {
        "colab": {
          "base_uri": "https://localhost:8080/"
        },
        "id": "mvVsXnpPrHff",
        "outputId": "a7273693-eb3d-4fef-bd61-d5a695e2ec42"
      },
      "execution_count": null,
      "outputs": [
        {
          "output_type": "stream",
          "name": "stdout",
          "text": [
            "0       Subject: enron methanol ; meter # : 988291\\r\\n...\n",
            "1       Subject: hpl nom for january 9 , 2001\\r\\n( see...\n",
            "2       Subject: neon retreat\\r\\nho ho ho , we ' re ar...\n",
            "3       Subject: photoshop , windows , office . cheap ...\n",
            "4       Subject: re : indian springs\\r\\nthis deal is t...\n",
            "                              ...                        \n",
            "5166    Subject: put the 10 on the ft\\r\\nthe transport...\n",
            "5167    Subject: 3 / 4 / 2000 and following noms\\r\\nhp...\n",
            "5168    Subject: calpine daily gas nomination\\r\\n>\\r\\n...\n",
            "5169    Subject: industrial worksheets for august 2000...\n",
            "5170    Subject: important online banking alert\\r\\ndea...\n",
            "Name: text, Length: 5171, dtype: object\n"
          ]
        }
      ]
    },
    {
      "cell_type": "code",
      "source": [
        "print(y)"
      ],
      "metadata": {
        "colab": {
          "base_uri": "https://localhost:8080/"
        },
        "id": "7bbqrseNsRFc",
        "outputId": "8b53db1a-ab62-40c4-e6e2-333e293b2647"
      },
      "execution_count": null,
      "outputs": [
        {
          "output_type": "stream",
          "name": "stdout",
          "text": [
            "0       1\n",
            "1       1\n",
            "2       1\n",
            "3       0\n",
            "4       1\n",
            "       ..\n",
            "5166    1\n",
            "5167    1\n",
            "5168    1\n",
            "5169    1\n",
            "5170    0\n",
            "Name: label, Length: 5171, dtype: object\n"
          ]
        }
      ]
    },
    {
      "cell_type": "markdown",
      "source": [
        "# Train Test Split"
      ],
      "metadata": {
        "id": "IMkPg3LE2l90"
      }
    },
    {
      "cell_type": "code",
      "source": [
        "x_train, x_test, y_train, y_test, = train_test_split(x,y, test_size=0.2, random_state=3)"
      ],
      "metadata": {
        "id": "Bgy5ZeUTsSPK"
      },
      "execution_count": null,
      "outputs": []
    },
    {
      "cell_type": "code",
      "source": [
        "print(x.shape)\n",
        "print(x_train.shape)\n",
        "print(x_test.shape)"
      ],
      "metadata": {
        "colab": {
          "base_uri": "https://localhost:8080/"
        },
        "id": "BU6TJ4KlsmJK",
        "outputId": "40207c41-bee8-494b-e2fd-82013eb03221"
      },
      "execution_count": null,
      "outputs": [
        {
          "output_type": "stream",
          "name": "stdout",
          "text": [
            "(5171,)\n",
            "(4136,)\n",
            "(1035,)\n"
          ]
        }
      ]
    },
    {
      "cell_type": "code",
      "source": [
        "print(y.shape)\n",
        "print(y_train.shape)\n",
        "print(y_test.shape)"
      ],
      "metadata": {
        "colab": {
          "base_uri": "https://localhost:8080/"
        },
        "id": "CT2YeqSVswI2",
        "outputId": "8aebe5b1-2d0f-485b-9cb6-661bd0a54eef"
      },
      "execution_count": null,
      "outputs": [
        {
          "output_type": "stream",
          "name": "stdout",
          "text": [
            "(5171,)\n",
            "(4136,)\n",
            "(1035,)\n"
          ]
        }
      ]
    },
    {
      "cell_type": "code",
      "source": [
        "feature_extraction = TfidfVectorizer(min_df=1, stop_words= 'english', lowercase = True)\n",
        "\n",
        "x_train_features = feature_extraction.fit_transform(x_train)\n",
        "x_test_features = feature_extraction.transform(x_test)\n",
        "\n",
        "y_train = y_train.astype('int')\n",
        "y_test = y_test.astype('int')"
      ],
      "metadata": {
        "id": "LnzPl3OVs1_t"
      },
      "execution_count": null,
      "outputs": []
    },
    {
      "cell_type": "code",
      "source": [
        "print(x_train)"
      ],
      "metadata": {
        "colab": {
          "base_uri": "https://localhost:8080/"
        },
        "id": "OHG4eXNPyJe-",
        "outputId": "fe28503e-a8d8-4314-ab23-ec745e6230b7"
      },
      "execution_count": null,
      "outputs": [
        {
          "output_type": "stream",
          "name": "stdout",
          "text": [
            "2209    Subject: hplc to wellhead\\r\\ndaren here is the...\n",
            "2000    Subject: mobil chemical - hpl meter # 1256 - e...\n",
            "5030    Subject: revised nom 5 / 5 - eastrans ; revise...\n",
            "1376    Subject: re : exxon company , usa global # 960...\n",
            "1564    Subject: your pharmacy nx\\r\\nwant a cheap pain...\n",
            "                              ...                        \n",
            "789     Subject: incr ' ease yo ' ur man ' hood by 4 -...\n",
            "968     Subject: subscribers receive first notice on r...\n",
            "1667    Subject: neon for march 28\\r\\nhere is the neon...\n",
            "3321    Subject: re : first delivery - pure resources ...\n",
            "1688    Subject: enhance your chest size\\r\\nemail is l...\n",
            "Name: text, Length: 4136, dtype: object\n"
          ]
        }
      ]
    },
    {
      "cell_type": "code",
      "source": [
        "print(x_train_features)"
      ],
      "metadata": {
        "colab": {
          "base_uri": "https://localhost:8080/"
        },
        "id": "6tUJcrrAaTuX",
        "outputId": "d2cb88b6-0950-411d-969b-dd1244d5401b"
      },
      "execution_count": null,
      "outputs": [
        {
          "output_type": "stream",
          "name": "stdout",
          "text": [
            "  (0, 3871)\t0.13387711316973605\n",
            "  (0, 531)\t0.14556222812251965\n",
            "  (0, 30451)\t0.08468916670398006\n",
            "  (0, 43273)\t0.14556222812251965\n",
            "  (0, 3890)\t0.14556222812251965\n",
            "  (0, 548)\t0.14556222812251965\n",
            "  (0, 37262)\t0.11275796314501375\n",
            "  (0, 2908)\t0.11535664415295803\n",
            "  (0, 456)\t0.14556222812251965\n",
            "  (0, 26297)\t0.09506000151609588\n",
            "  (0, 36190)\t0.11400727959297849\n",
            "  (0, 2478)\t0.13872687405852518\n",
            "  (0, 521)\t0.14556222812251965\n",
            "  (0, 16808)\t0.11843023142166303\n",
            "  (0, 22041)\t0.13387711316973605\n",
            "  (0, 2706)\t0.14556222812251965\n",
            "  (0, 522)\t0.14556222812251965\n",
            "  (0, 32060)\t0.07311834410351342\n",
            "  (0, 19411)\t0.04211028825505044\n",
            "  (0, 2537)\t0.13872687405852518\n",
            "  (0, 517)\t0.14556222812251965\n",
            "  (0, 19429)\t0.14556222812251965\n",
            "  (0, 16637)\t0.24438399643390496\n",
            "  (0, 3875)\t0.14556222812251965\n",
            "  (0, 836)\t0.14556222812251965\n",
            "  :\t:\n",
            "  (4135, 8873)\t0.07154271542163933\n",
            "  (4135, 16161)\t0.07327358549803296\n",
            "  (4135, 26936)\t0.07154271542163933\n",
            "  (4135, 15691)\t0.07812310961344454\n",
            "  (4135, 14167)\t0.07812310961344454\n",
            "  (4135, 11832)\t0.07539199926380867\n",
            "  (4135, 4961)\t0.07539199926380867\n",
            "  (4135, 7395)\t0.07154271542163933\n",
            "  (4135, 10238)\t0.06669319130622776\n",
            "  (4135, 29033)\t0.057994383348646844\n",
            "  (4135, 22458)\t0.05353240292261735\n",
            "  (4135, 14390)\t0.05726375354549545\n",
            "  (4135, 16537)\t0.07154271542163933\n",
            "  (4135, 42960)\t0.06496232122983413\n",
            "  (4135, 16217)\t0.06769343157946998\n",
            "  (4135, 26408)\t0.046488819206390516\n",
            "  (4135, 14282)\t0.06669319130622776\n",
            "  (4135, 27714)\t0.031300464660012135\n",
            "  (4135, 16475)\t0.03146157037949769\n",
            "  (4135, 38725)\t0.04124090788006661\n",
            "  (4135, 43426)\t0.05920796972538574\n",
            "  (4135, 20748)\t0.05068335935369024\n",
            "  (4135, 14513)\t0.056585357723181545\n",
            "  (4135, 36190)\t0.06420243561903816\n",
            "  (4135, 38946)\t0.009493502067611905\n"
          ]
        }
      ]
    },
    {
      "cell_type": "markdown",
      "source": [
        "# Modelling"
      ],
      "metadata": {
        "id": "6UjddNQW2q8m"
      }
    },
    {
      "cell_type": "code",
      "source": [
        "model = LogisticRegression()"
      ],
      "metadata": {
        "id": "K9dG4cTYaZuA"
      },
      "execution_count": null,
      "outputs": []
    },
    {
      "cell_type": "code",
      "source": [
        "model.fit(x_train_features,y_train)"
      ],
      "metadata": {
        "colab": {
          "base_uri": "https://localhost:8080/",
          "height": 75
        },
        "id": "dWUclsnFai0o",
        "outputId": "0c2d2180-4c61-4dbe-8e28-3b4397c3cc7f"
      },
      "execution_count": null,
      "outputs": [
        {
          "output_type": "execute_result",
          "data": {
            "text/plain": [
              "LogisticRegression()"
            ],
            "text/html": [
              "<style>#sk-container-id-1 {color: black;background-color: white;}#sk-container-id-1 pre{padding: 0;}#sk-container-id-1 div.sk-toggleable {background-color: white;}#sk-container-id-1 label.sk-toggleable__label {cursor: pointer;display: block;width: 100%;margin-bottom: 0;padding: 0.3em;box-sizing: border-box;text-align: center;}#sk-container-id-1 label.sk-toggleable__label-arrow:before {content: \"▸\";float: left;margin-right: 0.25em;color: #696969;}#sk-container-id-1 label.sk-toggleable__label-arrow:hover:before {color: black;}#sk-container-id-1 div.sk-estimator:hover label.sk-toggleable__label-arrow:before {color: black;}#sk-container-id-1 div.sk-toggleable__content {max-height: 0;max-width: 0;overflow: hidden;text-align: left;background-color: #f0f8ff;}#sk-container-id-1 div.sk-toggleable__content pre {margin: 0.2em;color: black;border-radius: 0.25em;background-color: #f0f8ff;}#sk-container-id-1 input.sk-toggleable__control:checked~div.sk-toggleable__content {max-height: 200px;max-width: 100%;overflow: auto;}#sk-container-id-1 input.sk-toggleable__control:checked~label.sk-toggleable__label-arrow:before {content: \"▾\";}#sk-container-id-1 div.sk-estimator input.sk-toggleable__control:checked~label.sk-toggleable__label {background-color: #d4ebff;}#sk-container-id-1 div.sk-label input.sk-toggleable__control:checked~label.sk-toggleable__label {background-color: #d4ebff;}#sk-container-id-1 input.sk-hidden--visually {border: 0;clip: rect(1px 1px 1px 1px);clip: rect(1px, 1px, 1px, 1px);height: 1px;margin: -1px;overflow: hidden;padding: 0;position: absolute;width: 1px;}#sk-container-id-1 div.sk-estimator {font-family: monospace;background-color: #f0f8ff;border: 1px dotted black;border-radius: 0.25em;box-sizing: border-box;margin-bottom: 0.5em;}#sk-container-id-1 div.sk-estimator:hover {background-color: #d4ebff;}#sk-container-id-1 div.sk-parallel-item::after {content: \"\";width: 100%;border-bottom: 1px solid gray;flex-grow: 1;}#sk-container-id-1 div.sk-label:hover label.sk-toggleable__label {background-color: #d4ebff;}#sk-container-id-1 div.sk-serial::before {content: \"\";position: absolute;border-left: 1px solid gray;box-sizing: border-box;top: 0;bottom: 0;left: 50%;z-index: 0;}#sk-container-id-1 div.sk-serial {display: flex;flex-direction: column;align-items: center;background-color: white;padding-right: 0.2em;padding-left: 0.2em;position: relative;}#sk-container-id-1 div.sk-item {position: relative;z-index: 1;}#sk-container-id-1 div.sk-parallel {display: flex;align-items: stretch;justify-content: center;background-color: white;position: relative;}#sk-container-id-1 div.sk-item::before, #sk-container-id-1 div.sk-parallel-item::before {content: \"\";position: absolute;border-left: 1px solid gray;box-sizing: border-box;top: 0;bottom: 0;left: 50%;z-index: -1;}#sk-container-id-1 div.sk-parallel-item {display: flex;flex-direction: column;z-index: 1;position: relative;background-color: white;}#sk-container-id-1 div.sk-parallel-item:first-child::after {align-self: flex-end;width: 50%;}#sk-container-id-1 div.sk-parallel-item:last-child::after {align-self: flex-start;width: 50%;}#sk-container-id-1 div.sk-parallel-item:only-child::after {width: 0;}#sk-container-id-1 div.sk-dashed-wrapped {border: 1px dashed gray;margin: 0 0.4em 0.5em 0.4em;box-sizing: border-box;padding-bottom: 0.4em;background-color: white;}#sk-container-id-1 div.sk-label label {font-family: monospace;font-weight: bold;display: inline-block;line-height: 1.2em;}#sk-container-id-1 div.sk-label-container {text-align: center;}#sk-container-id-1 div.sk-container {/* jupyter's `normalize.less` sets `[hidden] { display: none; }` but bootstrap.min.css set `[hidden] { display: none !important; }` so we also need the `!important` here to be able to override the default hidden behavior on the sphinx rendered scikit-learn.org. See: https://github.com/scikit-learn/scikit-learn/issues/21755 */display: inline-block !important;position: relative;}#sk-container-id-1 div.sk-text-repr-fallback {display: none;}</style><div id=\"sk-container-id-1\" class=\"sk-top-container\"><div class=\"sk-text-repr-fallback\"><pre>LogisticRegression()</pre><b>In a Jupyter environment, please rerun this cell to show the HTML representation or trust the notebook. <br />On GitHub, the HTML representation is unable to render, please try loading this page with nbviewer.org.</b></div><div class=\"sk-container\" hidden><div class=\"sk-item\"><div class=\"sk-estimator sk-toggleable\"><input class=\"sk-toggleable__control sk-hidden--visually\" id=\"sk-estimator-id-1\" type=\"checkbox\" checked><label for=\"sk-estimator-id-1\" class=\"sk-toggleable__label sk-toggleable__label-arrow\">LogisticRegression</label><div class=\"sk-toggleable__content\"><pre>LogisticRegression()</pre></div></div></div></div></div>"
            ]
          },
          "metadata": {},
          "execution_count": 37
        }
      ]
    },
    {
      "cell_type": "code",
      "source": [
        "prediction_on_training_data = model.predict(x_train_features)\n",
        "accuracy_on_training_data = accuracy_score(y_train, prediction_on_training_data)"
      ],
      "metadata": {
        "id": "ZmsZ_FdHapp5"
      },
      "execution_count": null,
      "outputs": []
    },
    {
      "cell_type": "code",
      "source": [
        "print(' acc on training data :', accuracy_on_training_data)"
      ],
      "metadata": {
        "colab": {
          "base_uri": "https://localhost:8080/"
        },
        "id": "oiMle-kebMxc",
        "outputId": "fde2048c-dfa2-406d-863d-3c87332d4730"
      },
      "execution_count": null,
      "outputs": [
        {
          "output_type": "stream",
          "name": "stdout",
          "text": [
            " acc on training data : 0.9970986460348162\n"
          ]
        }
      ]
    },
    {
      "cell_type": "code",
      "source": [
        "prediction_on_test_data = model.predict(x_test_features)\n",
        "accuracy_on_test_data = accuracy_score(y_test, prediction_on_test_data)"
      ],
      "metadata": {
        "id": "cvCk3BKObdzN"
      },
      "execution_count": null,
      "outputs": []
    },
    {
      "cell_type": "code",
      "source": [
        "print(' acc on test data :', accuracy_on_test_data)"
      ],
      "metadata": {
        "colab": {
          "base_uri": "https://localhost:8080/"
        },
        "id": "4nrqqqp8bq0Z",
        "outputId": "d903c9c1-17b2-4aa4-cd6b-27d3654acf2b"
      },
      "execution_count": null,
      "outputs": [
        {
          "output_type": "stream",
          "name": "stdout",
          "text": [
            " acc on test data : 0.9806763285024155\n"
          ]
        }
      ]
    },
    {
      "cell_type": "code",
      "source": [
        "input_your_mail = [\"blameworthy chlorophyllrobed diagrammatic fogarty clears baydainconveniencing managing represented smartness hashishacademies shareholders unload badnessdanielson pure caffeinspaniard chargeable levin\"]\n",
        "input_data_features = feature_extraction.transform(input_your_mail)\n",
        "prediction = model.predict(input_data_features)\n",
        "print(prediction)\n",
        "if(prediction[0]==1):\n",
        "  print('ham mail')\n",
        "else:\n",
        "  print('spam mail')"
      ],
      "metadata": {
        "colab": {
          "base_uri": "https://localhost:8080/"
        },
        "id": "hFxdytGLbyZn",
        "outputId": "f5216a39-d77b-4b4f-ea3b-062927420d19"
      },
      "execution_count": null,
      "outputs": [
        {
          "output_type": "stream",
          "name": "stdout",
          "text": [
            "[0]\n",
            "spam mail\n"
          ]
        }
      ]
    }
  ]
}